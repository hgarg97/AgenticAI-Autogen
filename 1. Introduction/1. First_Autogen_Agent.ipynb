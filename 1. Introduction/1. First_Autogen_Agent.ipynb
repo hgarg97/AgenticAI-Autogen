{
 "cells": [
  {
   "cell_type": "markdown",
   "id": "c1a01f12",
   "metadata": {},
   "source": [
    "# Autogen Installation"
   ]
  },
  {
   "cell_type": "markdown",
   "id": "3ecd14d3",
   "metadata": {},
   "source": [
    "1. Create a venv\n",
    "2. Create a requirements.txt\n",
    "3. install autogen-agentchat autogen-core autogen-ext"
   ]
  },
  {
   "cell_type": "markdown",
   "id": "e4228e69",
   "metadata": {},
   "source": [
    "## First Autogen Agent"
   ]
  },
  {
   "cell_type": "code",
   "execution_count": 2,
   "id": "1057f13f",
   "metadata": {},
   "outputs": [],
   "source": [
    "from autogen_agentchat.agents import AssistantAgent\n",
    "from autogen_ext.models.openai import OpenAIChatCompletionClient\n",
    "from dotenv import load_dotenv\n",
    "import os\n",
    "\n",
    "load_dotenv()\n",
    "\n",
    "api_key = os.getenv('OPENAI_API_KEY')"
   ]
  },
  {
   "cell_type": "code",
   "execution_count": 4,
   "id": "77433d60",
   "metadata": {},
   "outputs": [],
   "source": [
    "model_client = OpenAIChatCompletionClient(model='gpt-4o',api_key=api_key)"
   ]
  },
  {
   "cell_type": "code",
   "execution_count": 5,
   "id": "e2a00425",
   "metadata": {},
   "outputs": [],
   "source": [
    "agent_1 = AssistantAgent(name='my_assistant', model_client=model_client)"
   ]
  },
  {
   "cell_type": "code",
   "execution_count": 6,
   "id": "03d6c112",
   "metadata": {},
   "outputs": [],
   "source": [
    "result = await agent_1.run(task='Tell me something about you?')"
   ]
  },
  {
   "cell_type": "code",
   "execution_count": 7,
   "id": "4f7ef96a",
   "metadata": {},
   "outputs": [
    {
     "name": "stdout",
     "output_type": "stream",
     "text": [
      "messages=[TextMessage(id='57101e44-da6d-4c72-94ee-af3c8af62c97', source='user', models_usage=None, metadata={}, created_at=datetime.datetime(2025, 9, 1, 2, 11, 46, 610937, tzinfo=datetime.timezone.utc), content='Tell me something about you?', type='TextMessage'), TextMessage(id='bc32429f-3f24-4735-be9f-3181ca206af6', source='my_assistant', models_usage=RequestUsage(prompt_tokens=42, completion_tokens=79), metadata={}, created_at=datetime.datetime(2025, 9, 1, 2, 11, 48, 872193, tzinfo=datetime.timezone.utc), content='I am an artificial intelligence assistant designed to provide information, answer questions, and help with problem-solving tasks. I can assist with a wide range of topics, explain concepts, and perform various types of analyses or calculations. My knowledge base is built on data up to October 2023, so I can provide up-to-date information from that point. Let me know how I can assist you today!', type='TextMessage')] stop_reason=None\n"
     ]
    }
   ],
   "source": [
    "print(result)"
   ]
  },
  {
   "cell_type": "code",
   "execution_count": null,
   "id": "86bad6c9",
   "metadata": {},
   "outputs": [],
   "source": []
  }
 ],
 "metadata": {
  "kernelspec": {
   "display_name": "autogen-venv",
   "language": "python",
   "name": "python3"
  },
  "language_info": {
   "codemirror_mode": {
    "name": "ipython",
    "version": 3
   },
   "file_extension": ".py",
   "mimetype": "text/x-python",
   "name": "python",
   "nbconvert_exporter": "python",
   "pygments_lexer": "ipython3",
   "version": "3.13.0"
  }
 },
 "nbformat": 4,
 "nbformat_minor": 5
}
